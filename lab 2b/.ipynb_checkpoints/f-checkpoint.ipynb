{
 "cells": [
  {
   "cell_type": "markdown",
   "metadata": {},
   "source": [
    "# Lab 2B: Programming Paradigms in Python - Object-oriented Programming\n"
   ]
  },
  {
   "cell_type": "markdown",
   "metadata": {},
   "source": [
    "__Student:__ abcde123"
   ]
  },
  {
   "cell_type": "markdown",
   "metadata": {},
   "source": [
    "# Object-oriented Programming"
   ]
  },
  {
   "cell_type": "markdown",
   "metadata": {},
   "source": [
    "The point of Object-oriented Programming is to support encapsulation and the DRY (Don't Repeat Yourself) principle without things getting out of hand. Often, software architects (those high-level programmers who are responsible for how large systems are designed on a technical level) talk about Object-oriented design or Object-oriented analysis. The point of this is to identify the necessary _objects_ in a system. An object in this sense is not exactly the same as a Python object but rather a somewhat higher level logical unit which can reasonably be thought of as an independent component within the system. These high level objects might then be further subdivided into smaller and smaller objects and at a some level the responsibility shifts from the system architect to the team or individual developer working on a specific component. Thus, Object-oriented thinking is necessary for anyone developing code which will be integrated with a larger system, for instance a data scientist implementing analytics tools.\n",
    "\n",
    "It also means that the assignments in this part of Lab 2 will be at a higher level than the assignments in the FP part, not focusing as much on low level implementation of functions but rather on program organization. Therefore, you will also not get the same kind of code stubs or skeletons but will be required to build your code from scratch."
   ]
  },
  {
   "cell_type": "markdown",
   "metadata": {},
   "source": [
    "Python implements the Object-oriented paradigm to a somewhat larger degree than the Functional paradigm. However, there are features considered necessary for _strict_ object-oriented programming missing from Python. Mainly, we are talking about data protection. Not in a software security sense, but in the sense of encapsulation. There is no simple way to strictly control access to member variables in Python. This does not affect this lab in any way but is worth remembering if one has worked in a language such as Java previously."
   ]
  },
  {
   "cell_type": "markdown",
   "metadata": {},
   "source": [
    "### The Person class\n",
    "\n",
    "We will start with a classic example of using classes and objects to represent actual physical objects. Those of you who have taken a course in Databases might recognize the domain. Make sure each assignment is done before starting the next one even though this might mean changes to your code.\n",
    "\n",
    "#### 1.1\n",
    "Start with creating a class called Person. The constructor should take 3 arguments, a given name, a surname and a date (use the date class in the datetime module) representing the persons birth date. The class should have the following instance functions (`get_full_name`, `get_birthdate` and `get_age`). The function `get_age` should return an integer representing the persons age in years. When Finished, run the test code for 1.1.\n",
    "\n",
    "#### 1.2\n",
    "The Person class should keep a list of references to all created Person objects. Add the two class functions (`persons_created` which returns the number of Person objects created, and `get_persons` which returns a list of all Person objects). Run the test code for 1.2\n",
    "\n",
    "##### 1.2.1\n",
    "If you got a TypeError when calling `Person.persons_created` you might want to look up the `classmethod` function and its preferred use as the `@classmethod` decorator ([more on `classmethod`](https://www.programiz.com/python-programming/methods/built-in/classmethod)). Decorators can be thought of as _syntactic sugar_ to apply a higher-order function to some function to add specific behavior. You can write your own decorators and this is often used to combine the strengths of functional and object-oriented programming ([more on decorators](https://www.thecodeship.com/patterns/guide-to-python-function-decorators/)). What specific behavior is added by the `@classmethod` decorator?\n",
    "\n",
    "#### 1.3\n",
    "Add an instance function `get_id` which, when called, simply raises a [NotImplementedError](https://docs.python.org/3.4/library/exceptions.html#NotImplementedError). This makes `get_id` an _abstract function_. I.e. it makes clear that this function should be implemented by a sub-class of Person. Run the test code for 1.3."
   ]
  },
  {
   "cell_type": "code",
   "execution_count": 1,
   "metadata": {},
   "outputs": [
    {
     "name": "stdout",
     "output_type": "stream",
     "text": [
      "43\n",
      "2\n",
      "2\n",
      "[<__main__.Person object at 0x000001FBEEF41C88>, <__main__.Person object at 0x000001FBEEF41710>]\n",
      "must be implemented by a child class\n"
     ]
    }
   ],
   "source": [
    "# Your Person class here:\n",
    "import datetime\n",
    "import abc\n",
    "\n",
    "class Person:\n",
    "    num_of_persons=0\n",
    "    instances=[]\n",
    "    \n",
    "    def __init__(self, given_name, surname, birthdate):\n",
    "        self.given_name=given_name\n",
    "        self.surname=surname\n",
    "        self.birthdate=birthdate\n",
    "        Person.num_of_persons+=1\n",
    "        Person.instances.append(self)\n",
    "    \n",
    "    def get_full_name(self):\n",
    "        return self.given_name+\" \"+self.surname\n",
    "    \n",
    "    def get_birthdate(self):\n",
    "        return self.birthdate\n",
    "    \n",
    "    def get_age(self):\n",
    "        today=datetime.date.today()\n",
    "        return int(today.year-self.birthdate.year)\n",
    "    \n",
    "    @classmethod\n",
    "    def persons_created(cls):\n",
    "        return cls.num_of_persons\n",
    "    @classmethod\n",
    "    def get_persons(cls):\n",
    "        return cls.instances\n",
    "    @abc.abstractmethod\n",
    "    def get_id(cls):\n",
    "        return NotImplementedError('must be implemented by a child class')\n",
    "        \n",
    "        \n",
    "# Test code:\n",
    "\n",
    "# 1.1\n",
    "p1 = Person(\"Anna\", \"Annasdotter\", datetime.date(1975, 4, 4))\n",
    "print(p1.get_age())\n",
    "\n",
    "# 1.2\n",
    "p2 = Person(\"Sven\", \"Svensson\", datetime.date(1978, 5, 5))\n",
    "print(p1.persons_created())\n",
    "print(Person.persons_created())\n",
    "pers = p1.get_persons()\n",
    "print(pers)\n",
    "\n",
    "# 1.3\n",
    "print(p1.get_id())"
   ]
  },
  {
   "cell_type": "markdown",
   "metadata": {},
   "source": [
    "### The Student and Employee classes\n",
    "\n",
    "#### 2.1\n",
    "Create two sub-classes of Person called Student and Employee. Both these should create an id at object creation and implement the `get_id` function. For Student, the id should consist of the first 3 letters in the given name and the first 2 letters in the surname and a __3__ digit random number. For Employee, the id should consist of the first 3 letters in the given name and the first 2 letters in the surname and a __2__ digit random number. All letters in id:s, regardless of type, should be lowercase. It is not necessary to implement uniqueness checks for id:s.\n",
    "\n",
    "#### 2.2\n",
    "Write code to inspect how many Persons have been created. Are you surprised by the result? Add code to Employee and Student to make sure these classes keep references to all created instances and to return the number of created Employees and Students respectively. Write suitable test code.\n",
    "\n",
    "#### 2.3\n",
    "Add an instance variable `program` to the Student class with suitable _get_- and _set_-functions. The variable should contain a string representing the program to which the student is registered.\n",
    "\n",
    "#### 2.4\n",
    "Add an instance variable `salary` to the Employee class with suitable _get_- and _set_-functions. The variable should contain a number representing the monthly salary of the employee."
   ]
  },
  {
   "cell_type": "code",
   "execution_count": 2,
   "metadata": {},
   "outputs": [
    {
     "name": "stdout",
     "output_type": "stream",
     "text": [
      "andan43\n",
      "andan43\n",
      "pet821\n",
      "4\n",
      "1\n",
      "1\n",
      "pet442\n",
      "pet442\n",
      "andan76\n",
      "andan76\n"
     ]
    }
   ],
   "source": [
    "from random import randint\n",
    "class Student(Person):\n",
    "    num_of_students=0\n",
    "    def __init__(self, given_name, surname, birthdate,program=None):\n",
    "        super().__init__(given_name, surname, birthdate)\n",
    "        self.numeric=str(randint(100,999))\n",
    "        Student.num_of_students+=1\n",
    "        self.program=program\n",
    "        \n",
    "    def get_id(self):\n",
    "        self.id=self.given_name[:3].lower()+self.numeric\n",
    "        return self.id\n",
    "    @classmethod\n",
    "    def students_created(cls):\n",
    "        return cls.num_of_students\n",
    "    \n",
    "    def get_program(self):\n",
    "        return self.program\n",
    "    \n",
    "    def set_program(self,program):\n",
    "        self.program=program\n",
    "\n",
    "        \n",
    "class Employee(Person):\n",
    "    num_of_employees=0\n",
    "    def __init__(self, given_name, surname, birthdate,salary=None):\n",
    "        super().__init__(given_name, surname, birthdate)\n",
    "        self.numeric=str(randint(10,99))\n",
    "        Employee.num_of_employees+=1\n",
    "        self.salary=salary\n",
    "\n",
    "    def get_id(self):\n",
    "        self.id=self.given_name[:3].lower()+self.surname[:2].lower()+self.numeric\n",
    "        return self.id\n",
    "    @classmethod\n",
    "    def employees_created(cls):\n",
    "        return cls.num_of_employees\n",
    "    \n",
    "    def get_salary(self):\n",
    "        return self.salary\n",
    "    \n",
    "    def set_salary(self,salary):\n",
    "        self.salary=salary\n",
    "\n",
    "# 2.1\n",
    "e1 = Employee(\"Anders\", \"Andersson\", datetime.date(1960, 1, 1))\n",
    "print(e1.get_id())\n",
    "print(e1.get_id())\n",
    "s1 = Student(\"Peter\", \"Petersson\", datetime.date(1990, 2, 2))\n",
    "print(s1.get_id())\n",
    "# print(s1.get_id())\n",
    "\n",
    "# Your test code for 2.2:\n",
    "print(Person.persons_created())\n",
    "print(Student.students_created())\n",
    "print(Employee.employees_created())  \n",
    "\n",
    "# 2.3\n",
    "s1 = Student(\"Peter\", \"Petersson\", datetime.date(1990, 2, 2), \"Statistics\")\n",
    "print(s1.get_id())\n",
    "print(s1.get_id())\n",
    "\n",
    "# 2.4\n",
    "e1 = Employee(\"Anders\", \"Andersson\", datetime.date(1960, 1, 1), 40000)\n",
    "print(e1.get_id())\n",
    "print(e1.get_id())"
   ]
  },
  {
   "cell_type": "markdown",
   "metadata": {},
   "source": [
    "### The PhDStudent class\n",
    "\n",
    "### 3.1\n",
    "Implement a new class `PhDStudent` which inherits from __both__ Student and Employee. Can you make sure that `PhDStudent` gets an `Employee` type _id_?\n",
    "\n",
    "[Hint: Look up the concept of Method Resolution Order (MRO) in Python and how the `super` keyword behaves with multiple inheritance.]"
   ]
  },
  {
   "cell_type": "code",
   "execution_count": 3,
   "metadata": {
    "scrolled": true
   },
   "outputs": [
    {
     "name": "stdout",
     "output_type": "stream",
     "text": [
      "7\n",
      "3\n",
      "3\n",
      "eliel42\n",
      "30000\n",
      "Machine Learning\n"
     ]
    }
   ],
   "source": [
    "# Your PhDStudent class here:\n",
    "class PhDStudent(Employee,Student):\n",
    "    def __init__(self, given_name, surname, birthdate,program,salary):\n",
    "        super().__init__(given_name, surname, birthdate)\n",
    "        self.salary=salary\n",
    "        self.program=program\n",
    "    \n",
    "\n",
    "# Test code:\n",
    "# 3.1\n",
    "phd1 = PhDStudent(\"Elin\", \"Elinsdotter\", datetime.date(1980,3,3), \"Machine Learning\", 30000)\n",
    "print(Person.persons_created())\n",
    "print(Employee.employees_created())\n",
    "print(Student.students_created())\n",
    "print(phd1.get_id())\n",
    "print(phd1.get_salary())\n",
    "print(phd1.get_program())"
   ]
  },
  {
   "cell_type": "code",
   "execution_count": null,
   "metadata": {
    "collapsed": true
   },
   "outputs": [],
   "source": []
  }
 ],
 "metadata": {
  "anaconda-cloud": {},
  "kernelspec": {
   "display_name": "Python 3",
   "language": "python",
   "name": "python3"
  },
  "language_info": {
   "codemirror_mode": {
    "name": "ipython",
    "version": 3
   },
   "file_extension": ".py",
   "mimetype": "text/x-python",
   "name": "python",
   "nbconvert_exporter": "python",
   "pygments_lexer": "ipython3",
   "version": "3.6.3"
  }
 },
 "nbformat": 4,
 "nbformat_minor": 2
}

{
 "cells": [
  {
   "cell_type": "markdown",
   "metadata": {},
   "source": [
    "# Lab 2A: Programming Paradigms in Python - Functional Programming\n"
   ]
  },
  {
   "cell_type": "markdown",
   "metadata": {},
   "source": [
    "__Student:__ abcde123"
   ]
  },
  {
   "cell_type": "markdown",
   "metadata": {},
   "source": [
    "# Functional Programming"
   ]
  },
  {
   "cell_type": "markdown",
   "metadata": {},
   "source": [
    "Disclaimer: Functional programming in a language such as Python does not always lead to the fastest possible code and is often not considered the *pythonic* approach. However, functional programming is the basis for many concurrent systems (the MapReduce programming model many big data systems, e.g. Hadoop, rely on gets its name from the *map* and *reduce* functions mentioned below). Python is a multi-paradigmatic language, and functional programming is one of the paradigms one can use in the mix, to understand how and when to do this, it is necessary to do things in a non-*pythonic* way in order to cover the basics."
   ]
  },
  {
   "cell_type": "markdown",
   "metadata": {},
   "source": [
    "## General instructions\n",
    "\n",
    "In this lab there are some general rules you should keep in mind to make sure you are on the correct path in your solutions.\n",
    "\n",
    "#### Rules\n",
    "1. You are not allowed to use `while` or `for` statements.\n",
    "2. You are not allowed to use global variables (other than for functions defined in the global environment).\n",
    "3. Code stubs should be viewed as fixed, you are only allowed to add code, the only code you are allowed to change is `pass` statements, which you should remove.\n",
    "4. You should refrain from using the `list` datatype unless otherwise specified and instead use `tuple`. One of the strengths of functional programming is its focus on immutable data types (this is why functional programming and concurrency goes so well together).\n",
    "\n",
    "#### Advice\n",
    "1. Avoid local variables unless you are certain they are necessary, in most cases you won't need to use local variables. (altermatively, use local variables to your hearts content, but when your solution works, try to eliminate them, you should be able to eliminate most of them, over time, you might find that you don't need them.)"
   ]
  },
  {
   "cell_type": "markdown",
   "metadata": {},
   "source": [
    "## 1 Recursion\n",
    "\n",
    "Recursion is the main way of creating repeated operations in functional programming and consist of functions calling themselves, instead of using iterative constructs such as `while`- or `for`-loops which implicity require some kind of state. This is generally a more mathematical way of defining operations and many famous mathematical functions, such as the Fibonacci function, have a recursive definition, even though they usually can be implemented iteratively."
   ]
  },
  {
   "cell_type": "markdown",
   "metadata": {},
   "source": [
    "### 1.1 `triangle`\n",
    "\n",
    "Below, you find a traditional iterative implementation of the _triangle_ function (https://en.wikipedia.org/wiki/Triangular_number) and a function stub for a recursive version. Write code to implement the recursive version of `triangle`.\n",
    "\n",
    "[Note: Below, and in further code stubs, I use the `pass` statement. The pass statement is simply a non-action, it allows me to write a code stub without breaking syntax rules (a colon must be followed by a row with increased indentation).]<br>\n",
    "[Literature: LP section 4, especially chapter 16 and 19.]"
   ]
  },
  {
   "cell_type": "code",
   "execution_count": 4,
   "metadata": {},
   "outputs": [
    {
     "name": "stdout",
     "output_type": "stream",
     "text": [
      "triangleiter = 6 and trianglerec = 6 \n"
     ]
    }
   ],
   "source": [
    "# Iterative version\n",
    "def triangleiter(n):\n",
    "    result = 0\n",
    "    for x in range(n+1):\n",
    "        result = result + x\n",
    "    return result\n",
    "\n",
    "# Recursive version\n",
    "def trianglerec(n):\n",
    "    if(n==0):\n",
    "        return 0\n",
    "    else:\n",
    "        return n + trianglerec(n - 1)\n",
    "\n",
    "print(\"triangleiter = {0} and trianglerec = {1} \".format(triangleiter(3),trianglerec(3)))    "
   ]
  },
  {
   "cell_type": "markdown",
   "metadata": {},
   "source": [
    "### 1.2 `myflatten`\n",
    "\n",
    "One common use of recursion is to _flatten_ recursive data structures, such as nested lists or tuples. This is relatively simple with only one level of nesting, or when the structure follows a strict pattern, but for arbitrary nested sequences, a recursive approach is more natural. Implement a recursive function `myflatten` which can take an arbitrary structure of nested tuples and flattens it."
   ]
  },
  {
   "cell_type": "code",
   "execution_count": 5,
   "metadata": {},
   "outputs": [
    {
     "data": {
      "text/plain": [
       "(1, 2, 3, 4, 5, 6, 7, 8)"
      ]
     },
     "execution_count": 5,
     "metadata": {},
     "output_type": "execute_result"
    }
   ],
   "source": [
    "def myflatten(l):\n",
    "    if len(l) == 0 :\n",
    "        return ()\n",
    "    elif isinstance(l[0], tuple):\n",
    "        return myflatten(l[0]) + myflatten(l[1:])\n",
    "    else:\n",
    "        return l[:1] + myflatten(l[1:])\n",
    "\n",
    "myflatten((1, (2), 3, (4, 5, (6), 7), 8))"
   ]
  },
  {
   "cell_type": "markdown",
   "metadata": {},
   "source": [
    "### 1.3 Maximum recursion depth?\n",
    "\n",
    "While Python is not a \"pure\" functional language like Haskell, or even a \"fully\" functional language like the Lisp family, it does implement a number of traditionally functional features. What it does lack however, is _Tail Call Optimization_ (_TCO_) which makes recursive algorithms much cheaper to run. Without going into too much detail, with _TCO_ the space complexity (how much of the computers memory we use) of simpler recursive algoritmhs is constant, which means we can theoretically recurse forever. However, without _TCO_, recursion has linear space complexity, which means that there is a limit to how many recursive calls we can make before we run out of memory even for simple algorithms. This means that one of the main features of functional programming, recursion, is not as useful in Python as in more functional languages.\n",
    "\n",
    "Even though Python is not as efficient at doing recursion, a basic understanding of recursive algorithms is good to have and helps one get into the functional mindset.\n",
    "\n",
    "Now that you have a recursive version of triangle, we are going to break it. First, run the code in the box below"
   ]
  },
  {
   "cell_type": "code",
   "execution_count": 6,
   "metadata": {},
   "outputs": [
    {
     "name": "stdout",
     "output_type": "stream",
     "text": [
      "50005000\n"
     ]
    },
    {
     "ename": "RecursionError",
     "evalue": "maximum recursion depth exceeded in comparison",
     "output_type": "error",
     "traceback": [
      "\u001b[0;31m---------------------------------------------------------------------------\u001b[0m",
      "\u001b[0;31mRecursionError\u001b[0m                            Traceback (most recent call last)",
      "\u001b[0;32m<ipython-input-6-8191b2cda794>\u001b[0m in \u001b[0;36m<module>\u001b[0;34m()\u001b[0m\n\u001b[1;32m      1\u001b[0m \u001b[0mprint\u001b[0m\u001b[0;34m(\u001b[0m\u001b[0mtriangleiter\u001b[0m\u001b[0;34m(\u001b[0m\u001b[0;36m10000\u001b[0m\u001b[0;34m)\u001b[0m\u001b[0;34m)\u001b[0m\u001b[0;34m\u001b[0m\u001b[0m\n\u001b[0;32m----> 2\u001b[0;31m \u001b[0mprint\u001b[0m\u001b[0;34m(\u001b[0m\u001b[0mtrianglerec\u001b[0m\u001b[0;34m(\u001b[0m\u001b[0;36m10000\u001b[0m\u001b[0;34m)\u001b[0m\u001b[0;34m)\u001b[0m\u001b[0;34m\u001b[0m\u001b[0m\n\u001b[0m",
      "\u001b[0;32m<ipython-input-4-53af0d5c40be>\u001b[0m in \u001b[0;36mtrianglerec\u001b[0;34m(n)\u001b[0m\n\u001b[1;32m     11\u001b[0m         \u001b[0;32mreturn\u001b[0m \u001b[0;36m0\u001b[0m\u001b[0;34m\u001b[0m\u001b[0m\n\u001b[1;32m     12\u001b[0m     \u001b[0;32melse\u001b[0m\u001b[0;34m:\u001b[0m\u001b[0;34m\u001b[0m\u001b[0m\n\u001b[0;32m---> 13\u001b[0;31m         \u001b[0;32mreturn\u001b[0m \u001b[0mn\u001b[0m \u001b[0;34m+\u001b[0m \u001b[0mtrianglerec\u001b[0m\u001b[0;34m(\u001b[0m\u001b[0mn\u001b[0m \u001b[0;34m-\u001b[0m \u001b[0;36m1\u001b[0m\u001b[0;34m)\u001b[0m\u001b[0;34m\u001b[0m\u001b[0m\n\u001b[0m\u001b[1;32m     14\u001b[0m \u001b[0;34m\u001b[0m\u001b[0m\n\u001b[1;32m     15\u001b[0m \u001b[0mprint\u001b[0m\u001b[0;34m(\u001b[0m\u001b[0;34m\"triangleiter = {0} and trianglerec = {1} \"\u001b[0m\u001b[0;34m.\u001b[0m\u001b[0mformat\u001b[0m\u001b[0;34m(\u001b[0m\u001b[0mtriangleiter\u001b[0m\u001b[0;34m(\u001b[0m\u001b[0;36m3\u001b[0m\u001b[0;34m)\u001b[0m\u001b[0;34m,\u001b[0m\u001b[0mtrianglerec\u001b[0m\u001b[0;34m(\u001b[0m\u001b[0;36m3\u001b[0m\u001b[0;34m)\u001b[0m\u001b[0;34m)\u001b[0m\u001b[0;34m)\u001b[0m\u001b[0;34m\u001b[0m\u001b[0m\n",
      "... last 1 frames repeated, from the frame below ...\n",
      "\u001b[0;32m<ipython-input-4-53af0d5c40be>\u001b[0m in \u001b[0;36mtrianglerec\u001b[0;34m(n)\u001b[0m\n\u001b[1;32m     11\u001b[0m         \u001b[0;32mreturn\u001b[0m \u001b[0;36m0\u001b[0m\u001b[0;34m\u001b[0m\u001b[0m\n\u001b[1;32m     12\u001b[0m     \u001b[0;32melse\u001b[0m\u001b[0;34m:\u001b[0m\u001b[0;34m\u001b[0m\u001b[0m\n\u001b[0;32m---> 13\u001b[0;31m         \u001b[0;32mreturn\u001b[0m \u001b[0mn\u001b[0m \u001b[0;34m+\u001b[0m \u001b[0mtrianglerec\u001b[0m\u001b[0;34m(\u001b[0m\u001b[0mn\u001b[0m \u001b[0;34m-\u001b[0m \u001b[0;36m1\u001b[0m\u001b[0;34m)\u001b[0m\u001b[0;34m\u001b[0m\u001b[0m\n\u001b[0m\u001b[1;32m     14\u001b[0m \u001b[0;34m\u001b[0m\u001b[0m\n\u001b[1;32m     15\u001b[0m \u001b[0mprint\u001b[0m\u001b[0;34m(\u001b[0m\u001b[0;34m\"triangleiter = {0} and trianglerec = {1} \"\u001b[0m\u001b[0;34m.\u001b[0m\u001b[0mformat\u001b[0m\u001b[0;34m(\u001b[0m\u001b[0mtriangleiter\u001b[0m\u001b[0;34m(\u001b[0m\u001b[0;36m3\u001b[0m\u001b[0;34m)\u001b[0m\u001b[0;34m,\u001b[0m\u001b[0mtrianglerec\u001b[0m\u001b[0;34m(\u001b[0m\u001b[0;36m3\u001b[0m\u001b[0;34m)\u001b[0m\u001b[0;34m)\u001b[0m\u001b[0;34m)\u001b[0m\u001b[0;34m\u001b[0m\u001b[0m\n",
      "\u001b[0;31mRecursionError\u001b[0m: maximum recursion depth exceeded in comparison"
     ]
    }
   ],
   "source": [
    "print(triangleiter(10000))\n",
    "print(trianglerec(10000))"
   ]
  },
  {
   "cell_type": "markdown",
   "metadata": {},
   "source": [
    "As you can see, we get a `RuntimeError` (or `RecursionError` in Python versions 3.5 and later), which tells us that \"maximum recursion depth exceeded...\". This means that we have reached that limit mentioned above, we have run out of memory (or rather, Python has capped the number of recursive calls we can make, in order to NOT run out of memory). But how deep can we go?"
   ]
  },
  {
   "cell_type": "markdown",
   "metadata": {},
   "source": [
    "In this case, the largest possible input to `trianglerec` should be equivalent to the maximum recursion depth. There is an easiy way to compute the maximum recursion depth, using a single recursive function and exception handling. Create such a function below and run it to find the maximum recursion depth. Try it as input to `trianglerec`, does it work? Try the next larger number, does that work?"
   ]
  },
  {
   "cell_type": "code",
   "execution_count": null,
   "metadata": {
    "collapsed": true
   },
   "outputs": [],
   "source": [
    "# Write test_recursion_depth here:\n",
    "def test_recursion_depth(n)\n",
    "\n",
    "\n",
    "test_recursion_depth(trianglerec(3))"
   ]
  },
  {
   "cell_type": "markdown",
   "metadata": {},
   "source": [
    "## 2 Higher-order functions and anonymous functions\n",
    "\n",
    "A _higher-order function_ is a function which operates on other functions. What this means exactly is disputed, one definition is that a higher-order function must itself return a function, another definition is that a higher-order function must take another function as input. We will play fast and loose with the definition and call any function which does either or both of these a higher-order function. (Conversely, a function neither taking another function as input nor returning a function we will refer to as a _first-order function_) In R you have encountered these when, for instance, using the `apply` family of functions, which are all versions of what is called a `map` function in functional programming (see below).\n",
    "\n",
    "When using higher-order functions, it is often useful to create simple anonymous functions at the place in the code where they are used, rather than defining a new named function in one place only to call it in a single other place. In R, all functions are created in this way with the `function` keyword, but they are usually assigned to global names with standard assignment (`<-`). Python provides similar functionality using the `lambda` keyword (name inspired by Alonzo Church's $\\lambda$-calculus which has inspired much of functional programming) with which we can create anonymous functions. Of course, we can also pass named functions to higher-order functions, which is usually the case when the function is predefined, general enough to be used in more than one place, or complex enough to warrant separate definition and documentation for the sake of clarity."
   ]
  },
  {
   "cell_type": "markdown",
   "metadata": {},
   "source": [
    "### Standard higher-order functions: map, filter, reduce\n",
    "\n",
    "There are three standard cases which are widely applicable and many other higher-order functions are special cases or combinations of these. They are: `map`, apply a function on each element in a sequence, `filter`, keep (or conversely, remove) elements from a sequence according to some condition, and `reduce`, combine the elements in a sequence. The `map` function takes a sequence and a function (usually of 1 parameter) which is to be applied to each element of the sequence and might return anything, this function is assumed not to have side effects. The `filter` function takes a function (usually of 1 parameter) which returns a boolean value used to indicate which elements are to be kept. The `reduce` function takes a function (usually of 2 parameters) which is used to combine the elements in the sequence.\n",
    "\n",
    "In Python, `map` and `filter` are standard functions, available in the global environment. However, since Python 3, the `reduce` function has been moved to the built-in `functools` module and needs to be imported before we can use it.\n",
    "\n",
    "Many more advanced functions, of any order, can be created by combining these three higher-order functions."
   ]
  },
  {
   "cell_type": "markdown",
   "metadata": {},
   "source": [
    "### 2.1 `mysum`\n",
    "\n",
    "Implement a function `mysum` which computes the sum of a list or tuple of numbers using the reduce function and a lambda function."
   ]
  },
  {
   "cell_type": "code",
   "execution_count": null,
   "metadata": {
    "collapsed": true
   },
   "outputs": [],
   "source": [
    "from functools import reduce\n",
    "\n",
    "def mysum(l):\n",
    "    return reduce((lambda x, y: x + y), l)\n",
    "\n",
    "mysum((4, 7, 1))"
   ]
  },
  {
   "cell_type": "markdown",
   "metadata": {},
   "source": [
    "### 2.2 `mylength`\n",
    "\n",
    "Implement a function `mylength` which uses `map` and `reduce` to compute the length of a sequence. The use of the `len` function is not allowed.\n",
    "\n",
    "[Hint: Use `map` to convert the input to something which can easily be `reduce`:d.]"
   ]
  },
  {
   "cell_type": "code",
   "execution_count": null,
   "metadata": {
    "collapsed": true
   },
   "outputs": [],
   "source": [
    "def mylength(l):\n",
    "    return reduce(lambda count, b: count + 1, map(lambda x: x , l) , 0)\n",
    "    \n",
    "print(mylength((4, 2, 5, 2, 5)))\n",
    "print(mylength(\"test\"))"
   ]
  },
  {
   "cell_type": "markdown",
   "metadata": {},
   "source": [
    "### 2.3 mylength2\n",
    "\n",
    "Implement a function `mylength` which uses only `reduce` to compute the length of a sequence using the optional third parameter to supply an initial value to `reduce`."
   ]
  },
  {
   "cell_type": "code",
   "execution_count": null,
   "metadata": {
    "collapsed": true
   },
   "outputs": [],
   "source": [
    "def mylength2(l):\n",
    "    return reduce(lambda count, r:  count + 1 ,l,0)\n",
    "\n",
    "print(mylength2((4, 2, 5, 2, 5)))\n",
    "print(mylength2(\"test\"))"
   ]
  },
  {
   "cell_type": "markdown",
   "metadata": {},
   "source": [
    "### 2.4 mysieve\n",
    "\n",
    "A very well known algorithm for finding prime numbers is the Sieve of Eratosthenes. This algorithm works by filtering  out all non-prime numbers up to some predefined $n$. Use the skeleton code below and write a recursive `inner` function using `filter` to find the prime numbers up to `n`.\n",
    "\n",
    "[Note: In Python, the `filter` function returns a type of generator, if you want to convert this to a tuple, simply use `tuple(filter(...))`.]<br>\n",
    "[Hint: Each call to `inner` should filter out the numbers divisible by the first element in `l`.]"
   ]
  },
  {
   "cell_type": "code",
   "execution_count": null,
   "metadata": {
    "collapsed": true
   },
   "outputs": [],
   "source": [
    "def mysieve(n):\n",
    "    def inner(l):\n",
    "        pass\n",
    "    return inner(tuple(range(2, n+1)))\n",
    "mysieve(100)"
   ]
  },
  {
   "cell_type": "markdown",
   "metadata": {},
   "source": [
    "### Comprehensions\n",
    "\n",
    "One popular feature in many functional programming languages is comprehensions, which we already covered in the first lab. However, comprehensions are definitely a part of the functional side of Python, oh, and they are considered *Pythonic* as well as being very fast.\n",
    "\n",
    "Comprehensions can be used to simulate the behavior of `map` and `filter` (though not the behavior of `reduce`)."
   ]
  },
  {
   "cell_type": "markdown",
   "metadata": {},
   "source": [
    "### 2.5 mysieve2\n",
    "\n",
    "Reimplement the `mysieve` function using a comprehension instead of `filter`."
   ]
  },
  {
   "cell_type": "code",
   "execution_count": 3,
   "metadata": {},
   "outputs": [
    {
     "data": {
      "text/plain": [
       "(2,\n",
       " 3,\n",
       " 5,\n",
       " 7,\n",
       " 11,\n",
       " 13,\n",
       " 17,\n",
       " 19,\n",
       " 23,\n",
       " 29,\n",
       " 31,\n",
       " 37,\n",
       " 41,\n",
       " 43,\n",
       " 47,\n",
       " 53,\n",
       " 59,\n",
       " 61,\n",
       " 67,\n",
       " 71,\n",
       " 73,\n",
       " 79,\n",
       " 83,\n",
       " 89,\n",
       " 97)"
      ]
     },
     "execution_count": 3,
     "metadata": {},
     "output_type": "execute_result"
    }
   ],
   "source": [
    "def mysieve2(n):\n",
    "    def inner(l):\n",
    "       l = tuple([x for x in l if all(x % y != 0 for y in range(2, x))])\n",
    "       return l\n",
    "    return inner(tuple(range(2, n+1)))\n",
    "\n",
    "mysieve2(100)"
   ]
  },
  {
   "cell_type": "markdown",
   "metadata": {},
   "source": [
    "## 3 Building your own higher order functions"
   ]
  },
  {
   "cell_type": "markdown",
   "metadata": {},
   "source": [
    "### 3.1 Reimplementing map, filter and reduce\n",
    "\n",
    "Re-implement the three basic functional helper functions `map`, `filter` and `reduce` as recursive functions. Note that the built-in versions of these functions work on multiple sequences of equal length if supplied, however, you can assume a single sequence as second parameter, i.e. you can also skip the third parameter to reduce."
   ]
  },
  {
   "cell_type": "code",
   "execution_count": 15,
   "metadata": {},
   "outputs": [
    {
     "data": {
      "text/plain": [
       "[0, 1, 4, 9, 16, 25, 36, 49, 64, 81]"
      ]
     },
     "execution_count": 15,
     "metadata": {},
     "output_type": "execute_result"
    }
   ],
   "source": [
    "def mymap(fun, l):\n",
    "    if not l:\n",
    "        return []\n",
    "    else:\n",
    "        return [fun(l[0])] + mymap(fun, l[1:])\n",
    "\n",
    "mymap(lambda x:x**2, tuple(range(10)))"
   ]
  },
  {
   "cell_type": "code",
   "execution_count": 7,
   "metadata": {},
   "outputs": [
    {
     "data": {
      "text/plain": [
       "[0, 2, 4, 6, 8]"
      ]
     },
     "execution_count": 7,
     "metadata": {},
     "output_type": "execute_result"
    }
   ],
   "source": [
    "def myfilter(fun, l):\n",
    "    if not l:\n",
    "        return []\n",
    "    elif fun(l[0]):\n",
    "        return [ l[0] ] + myfilter(fun, l[1:])\n",
    "    else:\n",
    "        return  myfilter(fun, l[1:])  \n",
    "\n",
    "myfilter(lambda x:x%2==0, tuple(range(10)))"
   ]
  },
  {
   "cell_type": "code",
   "execution_count": 8,
   "metadata": {},
   "outputs": [
    {
     "data": {
      "text/plain": [
       "[1, 4, 9, 16]"
      ]
     },
     "execution_count": 8,
     "metadata": {},
     "output_type": "execute_result"
    }
   ],
   "source": [
    "def myreduce(fun ,l):\n",
    "    if not l:\n",
    "        return []\n",
    "    \n",
    "    return [fun(l[0],l[0])] + myreduce(fun, l[1:])\n",
    "\n",
    "myreduce(lambda x, y: x*y, tuple(range(1,5)))"
   ]
  },
  {
   "cell_type": "markdown",
   "metadata": {},
   "source": [
    "##  4 Returning functions\n",
    "\n",
    "The previous section covered functions which take other functions as input, but what about the opposite, functions returning functions as output?"
   ]
  },
  {
   "cell_type": "markdown",
   "metadata": {},
   "source": [
    "### 4.1 myidentity\n",
    "\n",
    "This might seem like a trivial example but serves as a nice entry point into returning functions. Create a function `myidentity` wich takes a single input. When called `myidentity` should return a function which, when itself called, regardless of inputs, produces the original input to `myidentity`. This is useful for when we need to pass a function to a higher order function but want it only to produce a constant value, for instance the function passed to `map` when we implemented `mylength` above.\n",
    "\n",
    "That the returned function should take arbitrary inputs means that we need to use the special \\* and \\*\\* parameters, most often seen as `*args` and `**kwargs`. These are used to handle arbitrary numbers of unnamed or named arguments to functions. These are either used when a function might itself take an arbitrary number of inputs or when we want to pass along arguments from a higher order function to a concrete function."
   ]
  },
  {
   "cell_type": "code",
   "execution_count": 16,
   "metadata": {},
   "outputs": [
    {
     "name": "stdout",
     "output_type": "stream",
     "text": [
      "<function myidentity.<locals>.aa at 0x105c9c048>\n",
      "1\n"
     ]
    }
   ],
   "source": [
    "def myidentity(x):\n",
    "    def aa(x, *args,**kwargs):        \n",
    "        return x\n",
    "    return aa\n",
    "\n",
    "one = myidentity(1)\n",
    "print(one)\n",
    "print(one(1,3,5, param2=\"a string\", param3=[1, 2, 4]))"
   ]
  },
  {
   "cell_type": "markdown",
   "metadata": {},
   "source": [
    "### 4.2 mycomposite\n",
    "\n",
    "Function composition is a common in both math and programming. Write a function `mycomposite` which takes two functions, $a$ and $b$, and produces the _composite_ function $a \\circ b$, where $(a \\circ b)(x) \\Leftrightarrow a(b(x))$. Example use is given below."
   ]
  },
  {
   "cell_type": "code",
   "execution_count": 21,
   "metadata": {},
   "outputs": [
    {
     "name": "stdout",
     "output_type": "stream",
     "text": [
      "[-1.507556722888818, -1.2060453783110545, -0.9045340337332909, -0.6030226891555273, -0.30151134457776363, 0.0, 0.30151134457776363, 0.6030226891555273, 0.9045340337332909, 1.2060453783110545, 1.507556722888818]\n"
     ]
    }
   ],
   "source": [
    "from statistics import stdev, mean\n",
    "\n",
    "def mycomposite(a, b):\n",
    "    return lambda x: a(b(x))    \n",
    "\n",
    "def myscale(l):\n",
    "    return [x/stdev(l) for x in l]\n",
    "\n",
    "def myshift(l):\n",
    "    return [x-mean(l) for x in l]\n",
    "\n",
    "standardize = mycomposite(myscale, myshift)\n",
    "\n",
    "print(standardize(range(-3, 8)))"
   ]
  },
  {
   "cell_type": "markdown",
   "metadata": {},
   "source": [
    "### 4.3 The pipeline function\n",
    "\n",
    "When doing data analysis, one very important part is pre-processing. Often, data goes through a number of steps of preprocessing, sometimes called a pipeline. The function composition example above can be seen as a special case of such a pipeline for only two functions. By clever use of higher order functions, we can build a pipeline function which takes a list or tuple of data transforming functions and creates a function which applies these sequentially. Construct such a function called `make_pipeline`. In order to focus on the primary purpose of the `make_pipeline` function, we will perform a very simple set of transformations, increment each value by 1, take the absolute value, and then take the square root. Usage example and code for the `inc` function is supplied below."
   ]
  },
  {
   "cell_type": "code",
   "execution_count": null,
   "metadata": {
    "collapsed": true,
    "scrolled": true
   },
   "outputs": [],
   "source": [
    "def make_pipeline(*funs):\n",
    "    pass\n",
    "\n",
    "def inc(x):\n",
    "    return x+1\n",
    "\n",
    "pipeline = make_pipeline(inc, abs, sqrt)\n",
    "\n",
    "tuple(pipeline(range(-5,5)))"
   ]
  },
  {
   "cell_type": "markdown",
   "metadata": {},
   "source": [
    "### 4.4 mypartial (Updated 2018-02-06)\n",
    "\n",
    "One of the main arguments for functional programming is the lack of state. However, sometimes we need to be able to set some constants without passing around enormous sets of inputs to functions. One approach to this is the `partial` function in the `functools` module. The `partial` function takes a function and an arbitrary number of named arguments and returns a function with those arguments bound to the corresponding named parameters of the function, i.e. creating a function of fewer parameters. Implement your own version of the `partial` function.\n",
    "\n",
    "[Note: In this case, you will have one dictionary of named  parameters(\\*\\*-parameters) for the `mypartial` function and one tuple of unnamed parameters (\\*-parameters) and one dictionary of named  parameters(\\*\\*-parameters) for the the function you will return. Note that the \\*\\*-dictionaries cannot share the same name.]"
   ]
  },
  {
   "cell_type": "code",
   "execution_count": null,
   "metadata": {
    "collapsed": true
   },
   "outputs": [],
   "source": [
    "def add(a, b):\n",
    "    return a + b\n",
    "\n",
    "def mypartial(func, **part_kwargs):\n",
    "    pass\n",
    "\n",
    "add3 = mypartial(add, b = 3)\n",
    "\n",
    "add3(10)"
   ]
  },
  {
   "cell_type": "markdown",
   "metadata": {},
   "source": [
    "## 5 Closures, returning functions with state\n",
    "\n",
    "When a function is created it always has access to the environment in which it was created. Usually, this means that the function can access variables in the global environment. However, whenever a function is created inside another function, it has access to the environment of the function in which it is created. To access such variables, they have to be declared, in the inner function, using the `nonlocal` keyword. If we return this inner function, we have created a _closure_.\n",
    "\n",
    "A closure is a function which has access to an environment, not accessible from outside the function, but which is not destroyed when the function returns. I.e. it is a way to introduce a small measure of statefulness into functional programming. In Python, iterators and generators work much like this. However, we can use the general concept in many cases."
   ]
  },
  {
   "cell_type": "markdown",
   "metadata": {},
   "source": [
    "### 5.1 make_counter\n",
    "\n",
    "Implement a function `make_counter` which has a single parameter `n` which acts as the initial value for a counter. The function should return a function with no parameters which, when called, increments the value of `n` by 1 and returns the new value."
   ]
  },
  {
   "cell_type": "code",
   "execution_count": 13,
   "metadata": {},
   "outputs": [
    {
     "name": "stdout",
     "output_type": "stream",
     "text": [
      "1\n",
      "2\n",
      "3\n",
      "4\n",
      "5\n"
     ]
    }
   ],
   "source": [
    "def make_counter(n):    \n",
    "    \n",
    "    def make_counter():\n",
    "        nonlocal x\n",
    "        x = x+ 1\n",
    "        return x\n",
    "    x = n\n",
    "    return make_counter\n",
    "        \n",
    "\n",
    "c = make_counter(0)\n",
    "print(c())\n",
    "print(c())\n",
    "print(c())\n",
    "print(c())\n",
    "print(c())"
   ]
  },
  {
   "cell_type": "markdown",
   "metadata": {},
   "source": [
    "### 5.2 Message passing: `make_counter2`\n",
    "\n",
    "Often, it is beneficial to be able to inspect the state of a closure without changing that state or be able to change that state in more than one way. This can be achieved using _message passing_, i.e. letting the closure take one or more arguments which controls its behavior when called.\n",
    "\n",
    "Implement a function `make_counter2` which has a single parameter `n` which acts as the initial value for a counter. The function should return a function which takes a single argument `message`. The `message` should be one of the strings \"increment\" or \"decrement\". On \"increment\" the value of `n` should increase by 1 and be returned, on \"decrement\" the value of `n`should decrease by 1 and be returned, for any other message (or no message) the value of `n` should be returned.\n",
    "\n",
    "[Note: You need to use a default value for the `message` parameter so that the counter can be called without argument to return the current value of `n`.]"
   ]
  },
  {
   "cell_type": "code",
   "execution_count": 23,
   "metadata": {},
   "outputs": [
    {
     "name": "stdout",
     "output_type": "stream",
     "text": [
      "0\n",
      "1\n",
      "2\n",
      "3\n",
      "2\n",
      "2\n"
     ]
    }
   ],
   "source": [
    "def make_counter2(n):\n",
    "    \n",
    "    def counter(message=\"nochange\"):\n",
    "        nonlocal x\n",
    "        if(message == \"increment\"):\n",
    "            x += 1\n",
    "        elif (message == \"decrement\"):\n",
    "            x -= 1 \n",
    "\n",
    "        return x\n",
    "    x = n\n",
    "    return counter\n",
    "    \n",
    "\n",
    "\n",
    "c = make_counter2(0)\n",
    "print(c())\n",
    "print(c(\"increment\"))\n",
    "print(c(\"increment\"))\n",
    "print(c(\"increment\"))\n",
    "print(c(\"decrement\"))\n",
    "print(c())"
   ]
  },
  {
   "cell_type": "markdown",
   "metadata": {},
   "source": [
    "## 6 Practical applications: Quicksort\n",
    "\n",
    "### 6.1 Basic Quicksort (Updated 2018-05-06)\n",
    "\n",
    "One of the most famous recursive functions is the Quicksort function (https://en.wikipedia.org/wiki/Quicksort). It allows us to sort a sequence, with repeated values, in log-linear time and with a logarithmic number of recursive calls. We will start by implementing Quicksort for a tuple of numbers.\n",
    "\n",
    "You should note that Wikipedia illustrates a more advanced _in-place_ version of Quicksort. This means that the partition function is more advanced and that the quicksort function has 3 parameters instead of 1. For the purposes of this assignment you can simply pass a new tuple to each recursive call to quicksort (i.e. you can use _filter_ or a comprehension to create the inputs)."
   ]
  },
  {
   "cell_type": "code",
   "execution_count": 27,
   "metadata": {},
   "outputs": [
    {
     "name": "stdout",
     "output_type": "stream",
     "text": [
      "(27, 977, 529, 289, 150, 943, 264, 369, 507, 22, 952, 55, 810, 576, 877, 891, 219, 967, 422, 586, 773, 998, 479, 754, 937, 864, 212, 973, 434, 341, 443, 597, 192, 612, 271, 309, 807, 0, 544, 697, 628, 491, 462, 553, 419, 521, 288, 685, 253, 832, 460, 988, 776, 297, 65, 345, 379, 496, 117, 225, 257, 136, 860, 317, 590, 270, 563, 548, 38, 790, 938, 33, 499, 410, 918, 354, 646, 14, 711, 906, 649, 182, 720, 127, 232, 958, 758, 326, 455, 872, 783, 407, 869, 476, 725, 901, 149, 432, 400, 879, 592, 984, 621, 133, 667, 28, 673, 666, 834, 778, 987, 777, 873, 453, 198, 820, 695, 619, 846, 494, 487, 435, 525, 627, 239, 865, 784, 863, 96, 558, 115, 769, 564, 370, 246, 585, 313, 421, 737, 263, 605, 941, 64, 484, 195, 169, 786, 123, 331, 944, 817, 334, 371, 760, 618, 196, 731, 635, 417, 85, 339, 208, 333, 716, 962, 885, 7, 235, 272, 303, 904, 128, 293, 728, 859, 899, 311, 654, 217, 898, 101, 617, 222, 920, 748, 148, 501, 197, 295, 648, 552, 441, 670, 961, 703, 794, 623, 430, 323, 13, 145, 805, 91, 884, 471, 855, 63, 910, 482, 237, 905, 348, 736, 83, 812, 163, 299, 500, 53, 598, 427, 227, 131, 262, 126, 656, 265, 741, 80, 914, 230, 347, 186, 881, 201, 298, 304, 568, 274, 975, 42, 187, 839, 125, 719, 416, 594, 837, 767, 119, 638, 581, 936, 540, 940, 751, 206, 454, 82, 457, 823, 655, 509, 59, 522, 52, 970, 116, 770, 490, 629, 979, 267, 954, 514, 639, 171, 218, 157, 254, 282, 336, 301, 935, 644, 530, 559, 352, 221, 342, 764, 44, 566, 953, 31, 729, 858, 700, 624, 880, 915, 978, 273, 287, 801, 320, 51, 269, 603, 154, 752, 775, 712, 381, 792, 275, 735, 220, 524, 813, 177, 771, 108, 587, 663, 37, 833, 181, 516, 415, 602, 66, 669, 458, 437, 980, 588, 630, 549, 355, 26, 213, 142, 611, 359, 739, 890, 39, 551, 866, 990, 606, 70, 689, 822, 231, 463, 995, 493, 705, 660, 545, 710, 706, 926, 391, 513, 798, 488, 207, 286, 632, 114, 106, 68, 330, 56, 704, 696, 361, 963, 383, 610, 721, 774, 565, 503, 378, 676, 528, 889, 677, 324, 811, 966, 20, 994, 223, 826, 577, 647, 188, 808, 678, 401, 951, 593, 49, 5, 738, 543, 934, 788, 69, 600, 664, 173, 983, 964, 844, 146, 622, 562, 252, 394, 243, 426, 109, 539, 87, 955, 527, 81, 204, 686, 382, 515, 897, 473, 393, 517, 110, 167, 283, 750, 919, 589, 554, 343, 993, 887, 456, 971, 911, 802, 164, 446, 724, 608, 291, 756, 384, 753, 189, 969, 909, 185, 838, 374, 168, 480, 397, 841, 95, 351, 708, 626, 922, 827, 637, 757, 634, 236, 302, 965, 174, 176, 614, 609, 19, 989, 440, 862, 413, 4, 45, 325, 425, 690, 475, 18, 868, 714, 156, 412, 279, 732, 367, 693, 102, 556, 947, 702, 532, 797, 111, 162, 874, 715, 124, 15, 404, 364, 781, 290, 572, 375, 60, 691, 948, 340, 372, 120, 849, 804, 744, 151, 537, 913, 409, 642, 373, 211, 152, 25, 747, 762, 787, 268, 557, 307, 403, 94, 917, 436, 580, 986, 713, 779, 6, 942, 560, 883, 699, 180, 280, 641, 210, 76, 439, 41, 451, 442, 450, 122, 661, 247, 172, 357, 742, 681, 209, 21, 390, 474, 709, 799, 840, 35, 327, 328, 420, 477, 215, 489, 314, 871, 366, 465, 107, 793, 688, 350, 3, 684, 485, 353, 305, 861, 645, 972, 242, 193, 388, 318, 155, 483, 468, 550, 105, 643, 203, 570, 857, 761, 316, 836, 74, 464, 228, 815, 924, 266, 892, 452, 418, 856, 238, 542, 824, 1, 118, 574, 89, 526, 34, 665, 461, 292, 406, 296, 607, 278, 765, 992, 358, 285, 178, 360, 43, 449, 830, 392, 845, 743, 332, 946, 256, 694, 36, 137, 61, 322, 50, 896, 541, 29, 11, 658, 772, 903, 78, 249, 806, 67, 985, 134, 882, 888, 92, 504, 707, 12, 675, 931, 847, 795, 284, 925, 893, 376, 508, 613, 72, 519, 625, 814, 112, 679, 444, 486, 79, 672, 447, 518, 809, 547, 662, 175, 900, 57, 86, 659, 143, 259, 575, 481, 97, 932, 583, 968, 894, 902, 234, 511, 878, 933, 466, 763, 996, 183, 240, 828, 199, 816, 733, 250, 949, 368, 831, 497, 835, 335, 166, 300, 520, 385, 129, 98, 319, 785, 93, 248, 842, 226, 601, 591, 429, 650, 653, 349, 184, 159, 405, 308, 727, 329, 854, 315, 255, 571, 599, 687, 433, 960, 578, 48, 929, 680, 615, 71, 921, 337, 344, 782, 90, 281, 789, 294, 363, 506, 957, 692, 974, 959, 850, 411, 10, 261, 997, 459, 408, 510, 950, 620, 161, 306, 438, 636, 399, 9, 569, 113, 424, 402, 819, 498, 398, 103, 848, 387, 523, 531, 674, 536, 981, 202, 321, 428, 135, 170, 423, 88, 205, 701, 139, 567, 276, 241, 194, 956, 505, 718, 58, 633, 62, 312, 23, 698, 895, 561, 682, 495, 991, 75, 224, 546, 982, 502, 54, 945, 683, 216, 99, 759, 796, 200, 928, 17, 84, 121, 875, 886, 310, 469, 829, 907, 976, 852, 745, 652, 927, 478, 467, 245, 214, 512, 717, 165, 356, 140, 851, 138, 595, 640, 32, 445, 582, 726, 930, 395, 780, 631, 803, 472, 825, 73, 158, 584, 414, 147, 386, 380, 141, 132, 534, 533, 740, 555, 338, 2, 999, 104, 870, 723, 191, 160, 596, 46, 8, 153, 791, 912, 431, 818, 47, 668, 492, 365, 908, 100, 260, 251, 730, 24, 939, 389, 396, 130, 346, 923, 821, 77, 179, 258, 876, 616, 579, 190, 377, 144, 722, 16, 671, 362, 30, 916, 604, 755, 749, 40, 766, 229, 277, 651, 734, 843, 768, 470, 657, 867, 538, 853, 448, 244, 573, 233, 746, 800, 535)\n",
      "[0, 1, 2, 3, 4, 5, 6, 7, 8, 9, 10, 11, 12, 13, 14, 15, 16, 17, 18, 19, 20, 21, 22, 23, 24, 25, 26, 27, 28, 29, 30, 31, 32, 33, 34, 35, 36, 37, 38, 39, 40, 41, 42, 43, 44, 45, 46, 47, 48, 49, 50, 51, 52, 53, 54, 55, 56, 57, 58, 59, 60, 61, 62, 63, 64, 65, 66, 67, 68, 69, 70, 71, 72, 73, 74, 75, 76, 77, 78, 79, 80, 81, 82, 83, 84, 85, 86, 87, 88, 89, 90, 91, 92, 93, 94, 95, 96, 97, 98, 99, 100, 101, 102, 103, 104, 105, 106, 107, 108, 109, 110, 111, 112, 113, 114, 115, 116, 117, 118, 119, 120, 121, 122, 123, 124, 125, 126, 127, 128, 129, 130, 131, 132, 133, 134, 135, 136, 137, 138, 139, 140, 141, 142, 143, 144, 145, 146, 147, 148, 149, 150, 151, 152, 153, 154, 155, 156, 157, 158, 159, 160, 161, 162, 163, 164, 165, 166, 167, 168, 169, 170, 171, 172, 173, 174, 175, 176, 177, 178, 179, 180, 181, 182, 183, 184, 185, 186, 187, 188, 189, 190, 191, 192, 193, 194, 195, 196, 197, 198, 199, 200, 201, 202, 203, 204, 205, 206, 207, 208, 209, 210, 211, 212, 213, 214, 215, 216, 217, 218, 219, 220, 221, 222, 223, 224, 225, 226, 227, 228, 229, 230, 231, 232, 233, 234, 235, 236, 237, 238, 239, 240, 241, 242, 243, 244, 245, 246, 247, 248, 249, 250, 251, 252, 253, 254, 255, 256, 257, 258, 259, 260, 261, 262, 263, 264, 265, 266, 267, 268, 269, 270, 271, 272, 273, 274, 275, 276, 277, 278, 279, 280, 281, 282, 283, 284, 285, 286, 287, 288, 289, 290, 291, 292, 293, 294, 295, 296, 297, 298, 299, 300, 301, 302, 303, 304, 305, 306, 307, 308, 309, 310, 311, 312, 313, 314, 315, 316, 317, 318, 319, 320, 321, 322, 323, 324, 325, 326, 327, 328, 329, 330, 331, 332, 333, 334, 335, 336, 337, 338, 339, 340, 341, 342, 343, 344, 345, 346, 347, 348, 349, 350, 351, 352, 353, 354, 355, 356, 357, 358, 359, 360, 361, 362, 363, 364, 365, 366, 367, 368, 369, 370, 371, 372, 373, 374, 375, 376, 377, 378, 379, 380, 381, 382, 383, 384, 385, 386, 387, 388, 389, 390, 391, 392, 393, 394, 395, 396, 397, 398, 399, 400, 401, 402, 403, 404, 405, 406, 407, 408, 409, 410, 411, 412, 413, 414, 415, 416, 417, 418, 419, 420, 421, 422, 423, 424, 425, 426, 427, 428, 429, 430, 431, 432, 433, 434, 435, 436, 437, 438, 439, 440, 441, 442, 443, 444, 445, 446, 447, 448, 449, 450, 451, 452, 453, 454, 455, 456, 457, 458, 459, 460, 461, 462, 463, 464, 465, 466, 467, 468, 469, 470, 471, 472, 473, 474, 475, 476, 477, 478, 479, 480, 481, 482, 483, 484, 485, 486, 487, 488, 489, 490, 491, 492, 493, 494, 495, 496, 497, 498, 499, 500, 501, 502, 503, 504, 505, 506, 507, 508, 509, 510, 511, 512, 513, 514, 515, 516, 517, 518, 519, 520, 521, 522, 523, 524, 525, 526, 527, 528, 529, 530, 531, 532, 533, 534, 535, 536, 537, 538, 539, 540, 541, 542, 543, 544, 545, 546, 547, 548, 549, 550, 551, 552, 553, 554, 555, 556, 557, 558, 559, 560, 561, 562, 563, 564, 565, 566, 567, 568, 569, 570, 571, 572, 573, 574, 575, 576, 577, 578, 579, 580, 581, 582, 583, 584, 585, 586, 587, 588, 589, 590, 591, 592, 593, 594, 595, 596, 597, 598, 599, 600, 601, 602, 603, 604, 605, 606, 607, 608, 609, 610, 611, 612, 613, 614, 615, 616, 617, 618, 619, 620, 621, 622, 623, 624, 625, 626, 627, 628, 629, 630, 631, 632, 633, 634, 635, 636, 637, 638, 639, 640, 641, 642, 643, 644, 645, 646, 647, 648, 649, 650, 651, 652, 653, 654, 655, 656, 657, 658, 659, 660, 661, 662, 663, 664, 665, 666, 667, 668, 669, 670, 671, 672, 673, 674, 675, 676, 677, 678, 679, 680, 681, 682, 683, 684, 685, 686, 687, 688, 689, 690, 691, 692, 693, 694, 695, 696, 697, 698, 699, 700, 701, 702, 703, 704, 705, 706, 707, 708, 709, 710, 711, 712, 713, 714, 715, 716, 717, 718, 719, 720, 721, 722, 723, 724, 725, 726, 727, 728, 729, 730, 731, 732, 733, 734, 735, 736, 737, 738, 739, 740, 741, 742, 743, 744, 745, 746, 747, 748, 749, 750, 751, 752, 753, 754, 755, 756, 757, 758, 759, 760, 761, 762, 763, 764, 765, 766, 767, 768, 769, 770, 771, 772, 773, 774, 775, 776, 777, 778, 779, 780, 781, 782, 783, 784, 785, 786, 787, 788, 789, 790, 791, 792, 793, 794, 795, 796, 797, 798, 799, 800, 801, 802, 803, 804, 805, 806, 807, 808, 809, 810, 811, 812, 813, 814, 815, 816, 817, 818, 819, 820, 821, 822, 823, 824, 825, 826, 827, 828, 829, 830, 831, 832, 833, 834, 835, 836, 837, 838, 839, 840, 841, 842, 843, 844, 845, 846, 847, 848, 849, 850, 851, 852, 853, 854, 855, 856, 857, 858, 859, 860, 861, 862, 863, 864, 865, 866, 867, 868, 869, 870, 871, 872, 873, 874, 875, 876, 877, 878, 879, 880, 881, 882, 883, 884, 885, 886, 887, 888, 889, 890, 891, 892, 893, 894, 895, 896, 897, 898, 899, 900, 901, 902, 903, 904, 905, 906, 907, 908, 909, 910, 911, 912, 913, 914, 915, 916, 917, 918, 919, 920, 921, 922, 923, 924, 925, 926, 927, 928, 929, 930, 931, 932, 933, 934, 935, 936, 937, 938, 939, 940, 941, 942, 943, 944, 945, 946, 947, 948, 949, 950, 951, 952, 953, 954, 955, 956, 957, 958, 959, 960, 961, 962, 963, 964, 965, 966, 967, 968, 969, 970, 971, 972, 973, 974, 975, 976, 977, 978, 979, 980, 981, 982, 983, 984, 985, 986, 987, 988, 989, 990, 991, 992, 993, 994, 995, 996, 997, 998, 999]\n"
     ]
    }
   ],
   "source": [
    "from random import sample, choice\n",
    "\n",
    "def quicksort(a):\n",
    "    if not a:\n",
    "        return []\n",
    "    else:\n",
    "        pivot = a[0]\n",
    "        low = [x for x in a     if x <  pivot]\n",
    "        high = [x for x in a[1:] if x >= pivot]\n",
    "        return quicksort(low) + [pivot] + quicksort(high)\n",
    "    \n",
    "a = tuple(sample(range(1000), 1000))\n",
    "print(a)\n",
    "b = quicksort(a)\n",
    "print(b)"
   ]
  },
  {
   "cell_type": "markdown",
   "metadata": {},
   "source": [
    "### 6.2 Quicksort as a higher order function\n",
    "\n",
    "The version of quicksort implemented above should only work on simpler types of data. However, what if we wanted to change the sort from ascending to descending, or we wanted to sort a tuple of objects where Python itself does not know how to compare object A and object B? To add this functionality, we can pass another argument to Quicksort which is applied to each element to compute a value on which it can be sorted. With the same function, only using different key-functions supplied, you should be able to sort a tuple descending, and sort a tuple of tuples of numbers on the sum of each tuple of numbers.\n",
    "\n",
    "[Hint: To generate test data for the second case, you can use a tuple comprehension within a tuple comprehension together with the random module.]"
   ]
  },
  {
   "cell_type": "code",
   "execution_count": null,
   "metadata": {
    "collapsed": true
   },
   "outputs": [],
   "source": [
    "from random import random\n",
    "\n",
    "# Write quicksort2 here:\n",
    "\n",
    "\n",
    "a = tuple(tuple(random() for i in range(3)) for j in range(10))\n",
    "print(a)\n",
    "b = quicksort2(a, sum)\n",
    "print(b)"
   ]
  },
  {
   "cell_type": "markdown",
   "metadata": {},
   "source": [
    "### 6.3 Quicksort as a higher order function with unknown arguments\n",
    "\n",
    "The version of Quicksort above only works with functions which takes no arguments but the object being compared. However, a higher order function can be made to pass along unnamed or named arguments using \\*args or \\*\\*kwargs. Below you find a function implementing the probability density function for the Gaussian distribution, taking an observation x, as well as the location and scale for the distribution at hand, and computes the density at x.\n",
    "\n",
    "We would now like to sort a tuple of observations on their corresponding density on the standard normal distribution. To do this, it is not enough to only pass `gausspdf` to quicksort but we also need to pass the values for `loc` and `scale`."
   ]
  },
  {
   "cell_type": "code",
   "execution_count": null,
   "metadata": {
    "collapsed": true
   },
   "outputs": [],
   "source": [
    "from math import exp, sqrt, pi\n",
    "from random import uniform\n",
    "\n",
    "def gausspdf(x, loc, scale):\n",
    "    return (exp(-((x - loc) / scale)**2/2)/sqrt(2*pi))/scale\n",
    "\n",
    "# Write quicksort3 here:\n",
    "    \n",
    "    \n",
    "a = tuple(uniform(-1,1) for i in range(10))\n",
    "print(a)\n",
    "b = quicksort3(a, gausspdf, loc=0, scale=1)\n",
    "print(b)"
   ]
  },
  {
   "cell_type": "markdown",
   "metadata": {},
   "source": [
    "Of course, in many cases we could use `partial` to the same effect."
   ]
  },
  {
   "cell_type": "markdown",
   "metadata": {},
   "source": [
    "### 6.4 Quicksort for any type of sequence\n",
    "\n",
    "All versions of quicksort above works with the tuple data type, but what if we wanted the return type to be a list, or a custom sequence type? Well, create a version of quicksort which adds a parameter which is used to supply a function which controls the type of the returned and sorted sequence.\n",
    "\n",
    "[Bonus: Create a version which does not take an extra argument but simply uses the supplied sequence type.]"
   ]
  },
  {
   "cell_type": "code",
   "execution_count": null,
   "metadata": {
    "collapsed": true
   },
   "outputs": [],
   "source": [
    "from math import exp, sqrt, pi\n",
    "from random import uniform\n",
    "\n",
    "def gausspdf(x, loc, scale):\n",
    "    return (exp(-((x - loc) / scale)**2/2)/sqrt(2*pi))/scale\n",
    "\n",
    "# Write quicksort4 here:\n",
    "\n",
    "\n",
    "a = tuple(uniform(-1,1) for i in range(10))\n",
    "print(a)\n",
    "b = quicksort4(a, tuple, key=gausspdf, loc=0, scale=1)\n",
    "print(b)\n",
    "\n",
    "a = [uniform(-1,1) for i in range(10)]\n",
    "print(a)\n",
    "b = quicksort4(a, list, key=gausspdf, loc=0, scale=1)\n",
    "print(b)"
   ]
  }
 ],
 "metadata": {
  "kernelspec": {
   "display_name": "Python 3",
   "language": "python",
   "name": "python3"
  },
  "language_info": {
   "codemirror_mode": {
    "name": "ipython",
    "version": 3
   },
   "file_extension": ".py",
   "mimetype": "text/x-python",
   "name": "python",
   "nbconvert_exporter": "python",
   "pygments_lexer": "ipython3",
   "version": "3.6.3"
  }
 },
 "nbformat": 4,
 "nbformat_minor": 2
}
